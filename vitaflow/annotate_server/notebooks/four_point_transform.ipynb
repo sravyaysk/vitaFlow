{
 "cells": [
  {
   "cell_type": "code",
   "execution_count": 1,
   "metadata": {},
   "outputs": [
    {
     "name": "stdout",
     "output_type": "stream",
     "text": [
      "Using dir at `/Users/sampathm/devbox/vitaFlow/vitaflow/annotate_server/static/data/images`!\n",
      "Using dir at `/Users/sampathm/devbox/vitaFlow/vitaflow/annotate_server/static/data/cropper`!\n",
      "Using dir at `/Users/sampathm/devbox/vitaFlow/vitaflow/annotate_server/static/data/binarisation`!\n",
      "Using dir at `/Users/sampathm/devbox/vitaFlow/vitaflow/annotate_server/static/data/annotations`!\n"
     ]
    }
   ],
   "source": [
    "import image_manager\n",
    "import os\n",
    "import config"
   ]
  },
  {
   "cell_type": "code",
   "execution_count": 2,
   "metadata": {},
   "outputs": [
    {
     "name": "stdout",
     "output_type": "stream",
     "text": [
      "GetNewImage is refreshed!!\n"
     ]
    }
   ],
   "source": [
    "image_manager.GetNewImage.refresh()"
   ]
  },
  {
   "cell_type": "code",
   "execution_count": 4,
   "metadata": {},
   "outputs": [
    {
     "data": {
      "text/plain": [
       "('static/data/cropper', 'static/data/binarisation')"
      ]
     },
     "execution_count": 4,
     "metadata": {},
     "output_type": "execute_result"
    }
   ],
   "source": [
    "config.CROPPER_ROOT_DIR, config.BINARIZE_ROOT_DIR "
   ]
  },
  {
   "cell_type": "code",
   "execution_count": 5,
   "metadata": {},
   "outputs": [
    {
     "name": "stdout",
     "output_type": "stream",
     "text": [
      "Binarisation done for: 711_crayola_receipt_zoomed\n",
      "Binarisation done for: 265medium\n",
      "Binarisation done for: 1d274906515745todaypizzahut14080601blocks_desktop_small\n",
      "Binarisation done for: 011\n",
      "Binarisation done for: 7c0acecb82f80849b9d4189c5fe94a09\n",
      "Binarisation done for: 006\n",
      "Binarisation done for: 6a00d8341c5da453ef014e883a4fd0970d320wi\n",
      "Binarisation done for: 348s_14\n",
      "Binarisation done for: 348s_15\n",
      "Binarisation done for: 011224x300\n",
      "Binarisation done for: 2jfm8sj\n",
      "Binarisation done for: 200pxreceiptswiss\n",
      "Binarisation done for: 1a3492be12741e07fd2f522996520e2c\n",
      "Binarisation done for: 348s_17\n",
      "Binarisation done for: 06dd_receipt150x150\n",
      "Binarisation done for: 348s_13\n",
      "Binarisation done for: 2cqfj49\n",
      "Binarisation done for: 9ce0281b58eeab3bf1f9301d0640ec07\n",
      "Binarisation done for: 41815aldi1261receipt\n",
      "Binarisation done for: 348s_39\n",
      "Binarisation done for: 6a00e54f10a0988834017ee4ed3889970d500wi\n",
      "Binarisation done for: 7elevenscam\n",
      "Binarisation done for: 0225metroreceipt\n",
      "Binarisation done for: 348s_36\n",
      "Binarisation done for: 348s_9\n",
      "Binarisation done for: 6a00d8345157c669e2017ee898431a970d300wi\n",
      "Binarisation done for: 348s_27\n",
      "Binarisation done for: 002il4fb783618a0c585cal\n",
      "Binarisation done for: 348s_31\n",
      "Binarisation done for: 130\n",
      "Binarisation done for: 348s_42\n",
      "Binarisation done for: 199phvyzydc2ajpg\n",
      "Binarisation done for: 249lowesreceipt\n",
      "Binarisation done for: 5f70b1611a4aa465f253a78e6a511a9a\n"
     ]
    }
   ],
   "source": [
    "image_manager. binarisation_all_images()"
   ]
  },
  {
   "cell_type": "code",
   "execution_count": null,
   "metadata": {},
   "outputs": [],
   "source": []
  },
  {
   "cell_type": "markdown",
   "metadata": {},
   "source": [
    "## asynio"
   ]
  },
  {
   "cell_type": "code",
   "execution_count": null,
   "metadata": {},
   "outputs": [],
   "source": [
    "import asyncio\n",
    "import datetime\n",
    "\n",
    "async def display_date(loop):\n",
    "    end_time = loop.time() + 5.0\n",
    "    while True:\n",
    "        print(datetime.datetime.now())\n",
    "        if (loop.time() + 1.0) >= end_time:\n",
    "            break\n",
    "        await asyncio.sleep(1)\n",
    "\n",
    "loop = asyncio.get_event_loop()\n",
    "# Blocking call which returns when the display_date() coroutine is done\n",
    "loop.run_until_complete(display_date(loop))\n",
    "loop.close()"
   ]
  },
  {
   "cell_type": "code",
   "execution_count": null,
   "metadata": {},
   "outputs": [],
   "source": []
  },
  {
   "cell_type": "code",
   "execution_count": null,
   "metadata": {},
   "outputs": [],
   "source": []
  },
  {
   "cell_type": "code",
   "execution_count": null,
   "metadata": {},
   "outputs": [],
   "source": []
  },
  {
   "cell_type": "code",
   "execution_count": null,
   "metadata": {},
   "outputs": [],
   "source": []
  },
  {
   "cell_type": "markdown",
   "metadata": {},
   "source": [
    "# hello"
   ]
  },
  {
   "cell_type": "code",
   "execution_count": 2,
   "metadata": {},
   "outputs": [],
   "source": [
    "import matplotlib.pyplot as plt\n",
    "\n",
    "%matplotlib inline"
   ]
  },
  {
   "cell_type": "code",
   "execution_count": 8,
   "metadata": {},
   "outputs": [],
   "source": [
    "image = plt.imread('/Users/sampathm/Downloads/00P8RO5779B44468DA391Cl.jpg')"
   ]
  },
  {
   "cell_type": "code",
   "execution_count": 10,
   "metadata": {
    "scrolled": true
   },
   "outputs": [
    {
     "data": {
      "text/plain": [
       "(358, 480, 3)"
      ]
     },
     "execution_count": 10,
     "metadata": {},
     "output_type": "execute_result"
    }
   ],
   "source": [
    "image.shape"
   ]
  },
  {
   "cell_type": "code",
   "execution_count": 18,
   "metadata": {},
   "outputs": [
    {
     "name": "stdout",
     "output_type": "stream",
     "text": [
      "Loc: static/data/annotations\n",
      "Total Number of files processed: 2\n",
      "                              filename        tag\n",
      "0   static/data/annotations/348s_9.xml      Eagle\n",
      "1   static/data/annotations/348s_9.xml  Baby Bird\n",
      "2      static/data/annotations/130.xml   Merchant\n",
      "3      static/data/annotations/130.xml  Line_Item\n",
      "4      static/data/annotations/130.xml  Line_Item\n",
      "5      static/data/annotations/130.xml  Line_Item\n",
      "6      static/data/annotations/130.xml  Line_Item\n",
      "7      static/data/annotations/130.xml  Line_Item\n",
      "8      static/data/annotations/130.xml       Date\n",
      "9      static/data/annotations/130.xml  Line_Item\n",
      "10     static/data/annotations/130.xml  Line_Item\n",
      "11     static/data/annotations/130.xml  Line_Item\n",
      "12     static/data/annotations/130.xml  Line_Item\n",
      "13     static/data/annotations/130.xml      Total\n"
     ]
    }
   ],
   "source": [
    "#! python\n",
    "\n",
    "import xml.etree.ElementTree\n",
    "from glob import glob\n",
    "\n",
    "import config\n",
    "import pandas as pd\n",
    "\n",
    "bag = [\n",
    "    # (filename, tag)\n",
    "]\n",
    "\n",
    "\n",
    "def get_stats():\n",
    "    for annotation_file in glob('{}/*.xml'.format(config.ANNOTATIONS_DIR)):\n",
    "        root = xml.etree.ElementTree.parse(annotation_file).getroot()\n",
    "        for each_object in root.findall('object'):\n",
    "            name = each_object.find('name').text\n",
    "            bag.append((annotation_file, name))\n",
    "\n",
    "    df = pd.DataFrame(bag, columns=['filename', 'tag'])\n",
    "    print('Loc: {}'.format(config.ANNOTATIONS_DIR))\n",
    "    print('Total Number of files processed: {}'.format(len(df.filename.unique())))\n",
    "    return df.tag.value_counts()\n",
    "\n",
    "\n",
    "if __name__ == '__main__':\n",
    "    print(get_stats())\n"
   ]
  },
  {
   "cell_type": "code",
   "execution_count": 19,
   "metadata": {},
   "outputs": [
    {
     "name": "stdout",
     "output_type": "stream",
     "text": [
      "Loc: static/data/annotations\n",
      "Total Number of files processed: 2\n"
     ]
    }
   ],
   "source": [
    "t = get_stats()"
   ]
  },
  {
   "cell_type": "code",
   "execution_count": 22,
   "metadata": {},
   "outputs": [],
   "source": [
    "tt = t.tag.value_counts()"
   ]
  },
  {
   "cell_type": "code",
   "execution_count": 31,
   "metadata": {},
   "outputs": [],
   "source": [
    "ttt = t.tag.value_counts().to_frame()"
   ]
  },
  {
   "cell_type": "code",
   "execution_count": 36,
   "metadata": {},
   "outputs": [
    {
     "name": "stdout",
     "output_type": "stream",
     "text": [
      "<table border=\"1\" class=\"dataframe table table-striped\">\n",
      "  <thead>\n",
      "    <tr style=\"text-align: right;\">\n",
      "      <th></th>\n",
      "      <th>tag</th>\n",
      "    </tr>\n",
      "  </thead>\n",
      "  <tbody>\n",
      "    <tr>\n",
      "      <th>Line_Item</th>\n",
      "      <td>18</td>\n",
      "    </tr>\n",
      "    <tr>\n",
      "      <th>Total</th>\n",
      "      <td>2</td>\n",
      "    </tr>\n",
      "    <tr>\n",
      "      <th>Merchant</th>\n",
      "      <td>2</td>\n",
      "    </tr>\n",
      "    <tr>\n",
      "      <th>Date</th>\n",
      "      <td>2</td>\n",
      "    </tr>\n",
      "    <tr>\n",
      "      <th>Eagle</th>\n",
      "      <td>2</td>\n",
      "    </tr>\n",
      "    <tr>\n",
      "      <th>Baby Bird</th>\n",
      "      <td>2</td>\n",
      "    </tr>\n",
      "  </tbody>\n",
      "</table>\n"
     ]
    }
   ],
   "source": [
    "print()"
   ]
  },
  {
   "cell_type": "code",
   "execution_count": null,
   "metadata": {},
   "outputs": [],
   "source": []
  },
  {
   "cell_type": "markdown",
   "metadata": {},
   "source": [
    "## play time -11:18"
   ]
  },
  {
   "cell_type": "code",
   "execution_count": null,
   "metadata": {},
   "outputs": [],
   "source": [
    "input_file = '/Users/sampathm/Downloads/00P8RO5779B44468DA391Cl.txt'\n",
    "data = open(input_file).read().splitlines()"
   ]
  },
  {
   "cell_type": "code",
   "execution_count": null,
   "metadata": {},
   "outputs": [],
   "source": [
    "!cat /Users/sampathm/Downloads/00P8RO5779B44468DA391Cl.txt"
   ]
  },
  {
   "cell_type": "code",
   "execution_count": null,
   "metadata": {},
   "outputs": [],
   "source": [
    "raw_data = []\n",
    "bag = []\n",
    "for line in data:\n",
    "    x1, y1, x2, y2, x3, y3, x4, y4 = list(map(round, map(float, line.split(','))))\n",
    "    raw_data.append((x1, y1, x2, y2, x3, y3, x4, y4))\n",
    "    _x = [x1, x2, x3, x4]\n",
    "    _y = [y1, y2, y3, y4]\n",
    "    x_max = max(_x)\n",
    "    x_min = min(_x)\n",
    "    y_max = max(_y)\n",
    "    y_min = min(_y)\n",
    "    coords = [y_min, y_max, x_min, x_max]\n",
    "    bag.append(coords)"
   ]
  },
  {
   "cell_type": "code",
   "execution_count": null,
   "metadata": {},
   "outputs": [],
   "source": [
    "x1, y1, x2, y2, x3, y3, x4, y4"
   ]
  },
  {
   "cell_type": "code",
   "execution_count": null,
   "metadata": {},
   "outputs": [],
   "source": [
    "_x, x_min, x_max"
   ]
  },
  {
   "cell_type": "code",
   "execution_count": null,
   "metadata": {},
   "outputs": [],
   "source": [
    "coords = [y_min, y_max, x_min, x_max]"
   ]
  },
  {
   "cell_type": "code",
   "execution_count": null,
   "metadata": {},
   "outputs": [],
   "source": [
    "plt.imshow(img[y_min:y_max, x_min:x_max])"
   ]
  },
  {
   "cell_type": "code",
   "execution_count": null,
   "metadata": {},
   "outputs": [],
   "source": [
    "bag"
   ]
  },
  {
   "cell_type": "code",
   "execution_count": null,
   "metadata": {},
   "outputs": [],
   "source": [
    "img = plt.imread('/Users/sampathm/Downloads/00P8RO5779B44468DA391Cl.jpg')"
   ]
  },
  {
   "cell_type": "code",
   "execution_count": null,
   "metadata": {},
   "outputs": [],
   "source": [
    "plt.figure(figsize=(20, 20))\n",
    "plt.imshow(img[26:340, 113:369])\n",
    "plt.imsave('/Users/sampathm/Desktop/download.jpg', img[26:340, 113:369])"
   ]
  },
  {
   "cell_type": "code",
   "execution_count": null,
   "metadata": {},
   "outputs": [],
   "source": [
    "def four_point_transform(image, pts):\n",
    "    # obtain a consistent order of the points and unpack them\n",
    "    # individually\n",
    "    rect = order_points(pts)\n",
    "    (tl, tr, br, bl) = rect\n",
    " \n",
    "    # compute the width of the new image, which will be the\n",
    "    # maximum distance between bottom-right and bottom-left\n",
    "    # x-coordiates or the top-right and top-left x-coordinates\n",
    "    widthA = np.sqrt(((br[0] - bl[0]) ** 2) + ((br[1] - bl[1]) ** 2))\n",
    "    widthB = np.sqrt(((tr[0] - tl[0]) ** 2) + ((tr[1] - tl[1]) ** 2))\n",
    "    maxWidth = max(int(widthA), int(widthB))\n",
    " \n",
    "    # compute the height of the new image, which will be the\n",
    "    # maximum distance between the top-right and bottom-right\n",
    "    # y-coordinates or the top-left and bottom-left y-coordinates\n",
    "    heightA = np.sqrt(((tr[0] - br[0]) ** 2) + ((tr[1] - br[1]) ** 2))\n",
    "    heightB = np.sqrt(((tl[0] - bl[0]) ** 2) + ((tl[1] - bl[1]) ** 2))\n",
    "    maxHeight = max(int(heightA), int(heightB))\n",
    " \n",
    "    # now that we have the dimensions of the new image, construct\n",
    "    # the set of destination points to obtain a \"birds eye view\",\n",
    "    # (i.e. top-down view) of the image, again specifying points\n",
    "    # in the top-left, top-right, bottom-right, and bottom-left\n",
    "    # order\n",
    "    dst = np.array([\n",
    "        [0, 0],\n",
    "        [maxWidth - 1, 0],\n",
    "        [maxWidth - 1, maxHeight - 1],\n",
    "        [0, maxHeight - 1]], dtype = \"float32\")\n",
    " \n",
    "    # compute the perspective transform matrix and then apply it\n",
    "    M = cv2.getPerspectiveTransform(rect, dst)\n",
    "    warped = cv2.warpPerspective(image, M, (maxWidth, maxHeight))\n",
    " \n",
    "    # return the warped image\n",
    "    return warped\n",
    "\n",
    "\n",
    "def order_points(pts):\n",
    "    # initialzie a list of coordinates that will be ordered\n",
    "    # such that the first entry in the list is the top-left,\n",
    "    # the second entry is the top-right, the third is the\n",
    "    # bottom-right, and the fourth is the bottom-left\n",
    "    rect = np.zeros((4, 2), dtype = \"float32\")\n",
    " \n",
    "    # the top-left point will have the smallest sum, whereas\n",
    "    # the bottom-right point will have the largest sum\n",
    "    s = pts.sum(axis = 1)\n",
    "    rect[0] = pts[np.argmin(s)]\n",
    "    rect[2] = pts[np.argmax(s)]\n",
    " \n",
    "    # now, compute the difference between the points, the\n",
    "    # top-right point will have the smallest difference,\n",
    "    # whereas the bottom-left will have the largest difference\n",
    "    diff = np.diff(pts, axis = 1)\n",
    "    rect[1] = pts[np.argmin(diff)]\n",
    "    rect[3] = pts[np.argmax(diff)]\n",
    " \n",
    "    # return the ordered coordinates\n",
    "    return rect"
   ]
  },
  {
   "cell_type": "code",
   "execution_count": null,
   "metadata": {},
   "outputs": [],
   "source": [
    "bag"
   ]
  },
  {
   "cell_type": "code",
   "execution_count": null,
   "metadata": {},
   "outputs": [],
   "source": [
    "plt.imshow(img[26:345, 113:369])"
   ]
  },
  {
   "cell_type": "code",
   "execution_count": null,
   "metadata": {},
   "outputs": [],
   "source": [
    "sample_img = img[254 -5 : 267 + 5, 317 - 5: 369 + 5]\n",
    "plt.imshow(sample_img)"
   ]
  },
  {
   "cell_type": "code",
   "execution_count": null,
   "metadata": {},
   "outputs": [],
   "source": [
    "cv2.minAreaRect(np.array([254, 267, 317, 369]))[-1]"
   ]
  },
  {
   "cell_type": "code",
   "execution_count": null,
   "metadata": {},
   "outputs": [],
   "source": [
    "# USAGE\n",
    "# python correct_skew.py --image images/neg_28.png\n",
    "\n",
    "# import the necessary packages\n",
    "import numpy as np\n",
    "import argparse\n",
    "import cv2\n",
    "\n",
    "# load the image from disk\n",
    "image = sample_img\n",
    "\n",
    "def print_angle(image):\n",
    "    gray = cv2.cvtColor(image, cv2.COLOR_BGR2GRAY)\n",
    "    gray = cv2.bitwise_not(gray)\n",
    "\n",
    "    thresh = cv2.threshold(gray, 0, 255,\n",
    "        cv2.THRESH_BINARY | cv2.THRESH_OTSU)[1]\n",
    "\n",
    "    coords = np.column_stack(np.where(thresh > 0))\n",
    "    angle = cv2.minAreaRect(coords)[-1]\n",
    "\n",
    "    if angle < -45:\n",
    "        angle = -(90 + angle)\n",
    "    else:\n",
    "        angle = -angle\n",
    "    (h, w) = image.shape[:2]\n",
    "    center = (w // 2, h // 2)\n",
    "    M = cv2.getRotationMatrix2D(center, angle, 1.0)\n",
    "    rotated = cv2.warpAffine(image, M, (w, h),\n",
    "        flags=cv2.INTER_CUBIC, borderMode=cv2.BORDER_REPLICATE)\n",
    "\n",
    "    cv2.putText(rotated, \"Angle: {:.2f} degrees\".format(angle),\n",
    "        (10, 30), cv2.FONT_HERSHEY_SIMPLEX, 0.7, (0, 0, 255), 2)\n",
    "\n",
    "    # show the output image\n",
    "    print(\"[INFO] angle: {:.3f}\".format(angle))\n",
    "\n",
    "\n",
    "print_angle(sample_img)"
   ]
  },
  {
   "cell_type": "code",
   "execution_count": null,
   "metadata": {},
   "outputs": [],
   "source": [
    "for (x1, x2, y1, y2) in bag:\n",
    "    sample_img = img[x1 -5 : x2 + 5, y1 - 5: y2 + 5]\n",
    "    print_angle(sample_img)"
   ]
  },
  {
   "cell_type": "code",
   "execution_count": null,
   "metadata": {},
   "outputs": [],
   "source": [
    "(x1, x2, y1, y2)"
   ]
  },
  {
   "cell_type": "code",
   "execution_count": null,
   "metadata": {},
   "outputs": [],
   "source": [
    "raw_data[9]"
   ]
  },
  {
   "cell_type": "code",
   "execution_count": null,
   "metadata": {},
   "outputs": [],
   "source": [
    "(x1, x2, y1, y2)"
   ]
  },
  {
   "cell_type": "code",
   "execution_count": null,
   "metadata": {},
   "outputs": [],
   "source": [
    "_angle = []\n",
    "for (x1, y1, x2, y2, x3, y3, x4, y4) in raw_data:\n",
    "    _angle.append(((y2 - y3) * 1.0) /(x2 -x3))"
   ]
  },
  {
   "cell_type": "code",
   "execution_count": null,
   "metadata": {},
   "outputs": [],
   "source": [
    "sum(_angle)/len(_angle)"
   ]
  },
  {
   "cell_type": "code",
   "execution_count": null,
   "metadata": {},
   "outputs": [],
   "source": [
    "x1, y1, x2, y2, x3, y3, x4, y4 = (191, 29, 191, 37, 250, 37, 249, 26)"
   ]
  },
  {
   "cell_type": "code",
   "execution_count": null,
   "metadata": {},
   "outputs": [],
   "source": [
    "print(((y2 - y3) * 1.0) /(x2 -x3))"
   ]
  },
  {
   "cell_type": "code",
   "execution_count": null,
   "metadata": {},
   "outputs": [],
   "source": [
    "(x1, x2, y1, y2) = bag[5 + 3 + 1]\n",
    "sample_img = img[x1 -5 : x2 + 5, y1 - 5: y2 + 5]\n",
    "\n",
    "plt.imshow(sample_img)\n",
    "print_angle(sample_img)"
   ]
  },
  {
   "cell_type": "code",
   "execution_count": null,
   "metadata": {},
   "outputs": [],
   "source": [
    "plt.imshow(image)"
   ]
  },
  {
   "cell_type": "code",
   "execution_count": null,
   "metadata": {},
   "outputs": [],
   "source": [
    "plt.imshow(rotated)"
   ]
  },
  {
   "cell_type": "markdown",
   "metadata": {},
   "source": [
    "cv2.imshow(\"Input\", image)\n",
    "cv2.imshow(\"Rotated\", rotated)\n",
    "cv2.waitKey(0)"
   ]
  },
  {
   "cell_type": "code",
   "execution_count": null,
   "metadata": {},
   "outputs": [],
   "source": []
  },
  {
   "cell_type": "code",
   "execution_count": null,
   "metadata": {},
   "outputs": [],
   "source": []
  },
  {
   "cell_type": "code",
   "execution_count": null,
   "metadata": {},
   "outputs": [],
   "source": []
  },
  {
   "cell_type": "code",
   "execution_count": null,
   "metadata": {},
   "outputs": [],
   "source": []
  },
  {
   "cell_type": "code",
   "execution_count": null,
   "metadata": {},
   "outputs": [],
   "source": []
  },
  {
   "cell_type": "code",
   "execution_count": null,
   "metadata": {},
   "outputs": [],
   "source": []
  },
  {
   "cell_type": "markdown",
   "metadata": {},
   "source": [
    "# hello"
   ]
  },
  {
   "cell_type": "code",
   "execution_count": null,
   "metadata": {},
   "outputs": [],
   "source": [
    "import numpy as np\n",
    "import cv2\n",
    "import imutils, traceback\n",
    "import sys\n",
    "import matplotlib.pyplot as plt\n",
    "\n",
    "\n",
    "def four_point_transform(image, pts):\n",
    "    # obtain a consistent order of the points and unpack them\n",
    "    # individually\n",
    "    rect = order_points(pts)\n",
    "    (tl, tr, br, bl) = rect\n",
    " \n",
    "    # compute the width of the new image, which will be the\n",
    "    # maximum distance between bottom-right and bottom-left\n",
    "    # x-coordiates or the top-right and top-left x-coordinates\n",
    "    widthA = np.sqrt(((br[0] - bl[0]) ** 2) + ((br[1] - bl[1]) ** 2))\n",
    "    widthB = np.sqrt(((tr[0] - tl[0]) ** 2) + ((tr[1] - tl[1]) ** 2))\n",
    "    maxWidth = max(int(widthA), int(widthB))\n",
    " \n",
    "    # compute the height of the new image, which will be the\n",
    "    # maximum distance between the top-right and bottom-right\n",
    "    # y-coordinates or the top-left and bottom-left y-coordinates\n",
    "    heightA = np.sqrt(((tr[0] - br[0]) ** 2) + ((tr[1] - br[1]) ** 2))\n",
    "    heightB = np.sqrt(((tl[0] - bl[0]) ** 2) + ((tl[1] - bl[1]) ** 2))\n",
    "    maxHeight = max(int(heightA), int(heightB))\n",
    " \n",
    "    # now that we have the dimensions of the new image, construct\n",
    "    # the set of destination points to obtain a \"birds eye view\",\n",
    "    # (i.e. top-down view) of the image, again specifying points\n",
    "    # in the top-left, top-right, bottom-right, and bottom-left\n",
    "    # order\n",
    "    dst = np.array([\n",
    "        [0, 0],\n",
    "        [maxWidth - 1, 0],\n",
    "        [maxWidth - 1, maxHeight - 1],\n",
    "        [0, maxHeight - 1]], dtype = \"float32\")\n",
    " \n",
    "    # compute the perspective transform matrix and then apply it\n",
    "    M = cv2.getPerspectiveTransform(rect, dst)\n",
    "    warped = cv2.warpPerspective(image, M, (maxWidth, maxHeight))\n",
    " \n",
    "    # return the warped image\n",
    "    return warped\n",
    "\n",
    "\n",
    "def order_points(pts):\n",
    "    # initialzie a list of coordinates that will be ordered\n",
    "    # such that the first entry in the list is the top-left,\n",
    "    # the second entry is the top-right, the third is the\n",
    "    # bottom-right, and the fourth is the bottom-left\n",
    "    rect = np.zeros((4, 2), dtype = \"float32\")\n",
    " \n",
    "    # the top-left point will have the smallest sum, whereas\n",
    "    # the bottom-right point will have the largest sum\n",
    "    s = pts.sum(axis = 1)\n",
    "    rect[0] = pts[np.argmin(s)]\n",
    "    rect[2] = pts[np.argmax(s)]\n",
    " \n",
    "    # now, compute the difference between the points, the\n",
    "    # top-right point will have the smallest difference,\n",
    "    # whereas the bottom-left will have the largest difference\n",
    "    diff = np.diff(pts, axis = 1)\n",
    "    rect[1] = pts[np.argmin(diff)]\n",
    "    rect[3] = pts[np.argmax(diff)]\n",
    " \n",
    "    # return the ordered coordinates\n",
    "    return rect\n",
    "\n",
    "\n",
    "# Read the image file\n",
    "print(sys.argv[1])\n",
    "# image = cv2.imread('/Users/sampathm/Downloads/00P8RO5779B44468DA391Cl.jpg')\n",
    "image = cv2.imread('/Users/sampathm/Desktop/download.jpg')\n",
    "\n",
    "# Resize the image - change width to 500\n",
    "# image = imutils.resize(image, width=250)\n",
    "\n",
    "# Display the original image\n",
    "plt.figure(figsize=(20,20))\n",
    "plt.imshow(image)\n"
   ]
  },
  {
   "cell_type": "code",
   "execution_count": null,
   "metadata": {},
   "outputs": [],
   "source": [
    "\n",
    "# RGB to Gray scale conversion\n",
    "gray = cv2.cvtColor(image, 0)\n",
    "#cv2.imshow(\"1 - Grayscale Conversion\", gray)\n",
    "\n",
    "# Noise removal with iterative bilateral filter(removes noise while preserving edges)\n",
    "# gray = cv2.bilateralFilter(gray, 11, 17, 17)\n",
    "plt.figure(figsize=(20,20))\n",
    "plt.imshow(gray, 'gray')\n",
    "cv2.imwrite(\"gray.jpg\", gray)"
   ]
  },
  {
   "cell_type": "code",
   "execution_count": null,
   "metadata": {},
   "outputs": [],
   "source": []
  },
  {
   "cell_type": "code",
   "execution_count": null,
   "metadata": {},
   "outputs": [],
   "source": [
    "gray = plt.imread('gray.jpg')\n",
    "thresh  = 165\n",
    "# gray = cv2.threshold(gray, thresh, 255, cv2.THRESH_BINARY)[1]\n",
    "#cv2.imshow()\n",
    "#sys.exit(0)\n",
    "# Find Edges of the grayscale image\n",
    "edged = cv2.Canny(gray, 50, 200)\n",
    "lines = cv2.HoughLines(edged,1,np.pi/180,10)\n",
    "plt.figure(figsize=(20,20))\n",
    "plt.imshow(edged, 'gray')"
   ]
  },
  {
   "cell_type": "code",
   "execution_count": null,
   "metadata": {},
   "outputs": [],
   "source": [
    "for rho,theta in lines[0]:\n",
    "    a = np.cos(theta)\n",
    "    b = np.sin(theta)\n",
    "    x0 = a*rho\n",
    "    y0 = b*rho\n",
    "    x1 = int(x0 + 1000*(-b))\n",
    "    y1 = int(y0 + 1000*(a))\n",
    "    x2 = int(x0 - 1000*(-b))\n",
    "    y2 = int(y0 - 1000*(a))\n",
    "\n",
    "    cv2.line(gray,(x1,y1),(x2,y2),(0,0,255),2)\n"
   ]
  },
  {
   "cell_type": "code",
   "execution_count": null,
   "metadata": {},
   "outputs": [],
   "source": [
    "plt.imshow(gray)"
   ]
  },
  {
   "cell_type": "code",
   "execution_count": null,
   "metadata": {
    "scrolled": false
   },
   "outputs": [],
   "source": [
    "#print(lines)\n",
    "\n",
    "cv2.imwrite('houghlines3.jpg',image)\n",
    "\"\"\"\n",
    "\n",
    "\"\"\"\n",
    "plt.figure(figsize=(20,20))\n",
    "plt.imshow(edged, 'gray')\n",
    "cv2.imwrite(\"temp/edge.jpg\", edged)"
   ]
  },
  {
   "cell_type": "code",
   "execution_count": null,
   "metadata": {
    "scrolled": false
   },
   "outputs": [],
   "source": [
    "\n",
    "thresh  = 165\n",
    "gray = cv2.threshold(gray, thresh, 255, cv2.THRESH_BINARY)[1]\n",
    "print(gray)\n",
    "#cv2.imshow()\n",
    "cv2.imwrite('temp/gaurish.jpg', gray)\n",
    "#sys.exit(0)\n",
    "# Find Edges of the grayscale image\n",
    "edged = cv2.Canny(gray, 100, 200)\n",
    "#lines = cv2.HoughLinesP(edged,1,np.pi/30,10, 50, 5)\n",
    "#print(lines)\n",
    "\"\"\"\n",
    "for rho,theta in lines[0]:\n",
    "    a = np.cos(theta)\n",
    "    b = np.sin(theta)\n",
    "    x0 = a*rho\n",
    "    y0 = b*rho\n",
    "    x1 = int(x0 + 1000*(-b))\n",
    "    y1 = int(y0 + 1000*(a))\n",
    "    x2 = int(x0 - 1000*(-b))\n",
    "    y2 = int(y0 - 1000*(a))\n",
    "\n",
    "    cv2.line(image,(x1,y1),(x2,y2),(0,0,255),2)\n",
    "\n",
    "cv2.imwrite('temp/houghlines3.jpg',image)\n",
    "\"\"\"\n",
    "plt.figure(figsize=(20,20))\n",
    "plt.imshow(edged)\n",
    "cv2.imwrite(\"temp/edge.jpg\", edged)\n",
    "# Find contours based on Edges\n",
    "(new, cnts, _) = cv2.findContours(edged.copy(), cv2.RETR_LIST, cv2.CHAIN_APPROX_SIMPLE)\n",
    "cnts=sorted(cnts, key = cv2.contourArea, reverse = True)[:30] #sort contours based on their area keeping minimum required area as '30' (anything smaller than this will not be considered)\n",
    "\n",
    "NumberPlateCnt = None #we currently have no Number plate contour\n",
    "\n"
   ]
  },
  {
   "cell_type": "code",
   "execution_count": null,
   "metadata": {},
   "outputs": [],
   "source": [
    "for c in cnts:\n",
    "\n",
    "    peri = cv2.arcLength(c, True)\n",
    "    approx = cv2.approxPolyDP(c, 0.02 * peri, True)\n",
    "    if len(approx) == 4: \n",
    "        break"
   ]
  },
  {
   "cell_type": "code",
   "execution_count": null,
   "metadata": {},
   "outputs": [],
   "source": [
    "approx"
   ]
  },
  {
   "cell_type": "code",
   "execution_count": null,
   "metadata": {},
   "outputs": [],
   "source": [
    "# loop over our contours to find the best possible approximate contour of number plate\n",
    "count = 0\n",
    "\n",
    "for c in cnts:\n",
    "\n",
    "    peri = cv2.arcLength(c, True)\n",
    "    approx = cv2.approxPolyDP(c, 0.02 * peri, True)\n",
    "    if len(approx) >= 4 and len(approx) <= 10:  # Select the contour with 4 corners\n",
    "    #if len(approx) == 4:\n",
    "        count += 1\n",
    "        NumberPlateCnt = approx #This is our approx Number Plate Contour\n",
    "        print(len(approx))\n",
    "        break\n",
    "        \"\"\"\n",
    "        pts = NumberPlateCnt.reshape((4,2)).astype('float32')\n",
    "        print(pts)\n",
    "        warped = four_point_transform(image, pts)\n",
    "        cv2.imwrite('temp/lp' + str(count) +'.jpg', warped)\n",
    "        #break\n",
    "print('ok')\n",
    "        \"\"\"\n",
    "\n",
    "pts = NumberPlateCnt.reshape((len(approx),2)).astype('float32')\n",
    "print(pts)\n",
    "# Drawing the selected contour on the original image\n",
    "#x = cv2.drawContours(image, [NumberPlateCnt], -1, (0,255,0), 3)\n",
    "#cv2.imwrite(\"temp.jpg\", x)\n",
    "plt.imshow(image)\n",
    "\n",
    "try:\n",
    "    warped = four_point_transform(image, pts)\n",
    "except:\n",
    "    traceback.print_exc()\n",
    "\n",
    "cv2.imwrite('lp.jpg', warped)"
   ]
  },
  {
   "cell_type": "code",
   "execution_count": null,
   "metadata": {},
   "outputs": [],
   "source": []
  },
  {
   "cell_type": "code",
   "execution_count": null,
   "metadata": {},
   "outputs": [],
   "source": []
  },
  {
   "cell_type": "code",
   "execution_count": null,
   "metadata": {},
   "outputs": [],
   "source": []
  },
  {
   "cell_type": "code",
   "execution_count": null,
   "metadata": {},
   "outputs": [],
   "source": []
  },
  {
   "cell_type": "code",
   "execution_count": null,
   "metadata": {},
   "outputs": [],
   "source": []
  },
  {
   "cell_type": "code",
   "execution_count": null,
   "metadata": {},
   "outputs": [],
   "source": []
  },
  {
   "cell_type": "code",
   "execution_count": null,
   "metadata": {},
   "outputs": [],
   "source": []
  },
  {
   "cell_type": "code",
   "execution_count": null,
   "metadata": {},
   "outputs": [],
   "source": []
  },
  {
   "cell_type": "code",
   "execution_count": null,
   "metadata": {},
   "outputs": [],
   "source": []
  },
  {
   "cell_type": "code",
   "execution_count": null,
   "metadata": {},
   "outputs": [],
   "source": []
  },
  {
   "cell_type": "code",
   "execution_count": null,
   "metadata": {},
   "outputs": [],
   "source": []
  }
 ],
 "metadata": {
  "kernelspec": {
   "display_name": "Python 3",
   "language": "python",
   "name": "python3"
  },
  "language_info": {
   "codemirror_mode": {
    "name": "ipython",
    "version": 3
   },
   "file_extension": ".py",
   "mimetype": "text/x-python",
   "name": "python",
   "nbconvert_exporter": "python",
   "pygments_lexer": "ipython3",
   "version": "3.6.8"
  }
 },
 "nbformat": 4,
 "nbformat_minor": 2
}
